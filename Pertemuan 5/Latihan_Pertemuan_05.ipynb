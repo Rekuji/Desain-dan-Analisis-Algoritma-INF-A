{
  "nbformat": 4,
  "nbformat_minor": 0,
  "metadata": {
    "colab": {
      "provenance": []
    },
    "kernelspec": {
      "name": "python3",
      "display_name": "Python 3"
    },
    "language_info": {
      "name": "python"
    }
  },
  "cells": [
    {
      "cell_type": "markdown",
      "source": [
        "## Contoh Kasus 1"
      ],
      "metadata": {
        "id": "ABoDs7PYSZ4H"
      }
    },
    {
      "cell_type": "code",
      "execution_count": 11,
      "metadata": {
        "id": "YqQGmpGrKyWt"
      },
      "outputs": [],
      "source": [
        "def maxCrossingSum(arr, l, m, h):\n",
        "    # Include elements on left of mid.\n",
        "    sm = 0\n",
        "    left_sum = -10000\n",
        "\n",
        "    for i in range(m, l - 1, -1):\n",
        "        sm = sm + arr[i]\n",
        "\n",
        "        if (sm > left_sum):\n",
        "            left_sum = sm\n",
        "\n",
        "    # Include elements on right of mid\n",
        "    sm = 0\n",
        "    right_sum = -10000\n",
        "\n",
        "\n",
        "    for i in range(m + 1, h + 1):\n",
        "        sm = sm + arr[i]\n",
        "\n",
        "        if (sm > right_sum):\n",
        "            right_sum = sm\n",
        "\n",
        "    # Return sum of elements on left and right of mid\n",
        "    # returning only left_sum + right_sum will fail for [-2, 1]\n",
        "    return max(left_sum + right_sum,  arr[m], left_sum, right_sum)\n",
        "\n",
        "def maxSubArraySum(arr, l, h):\n",
        "    # Invalid Range: low is greater than high\n",
        "    if (l > h):\n",
        "        return -10000\n",
        "\n",
        "    # Base Case: Only one element\n",
        "    if (l == h):\n",
        "        return arr[l]\n",
        "\n",
        "    # Find middle point\n",
        "    m = (l + h) // 2\n",
        "\n",
        "    return max(maxSubArraySum(arr, l, m - 1),\n",
        "               maxSubArraySum(arr, m + 1, h),\n",
        "               maxCrossingSum(arr, l, m, h))\n"
      ]
    },
    {
      "cell_type": "code",
      "source": [
        "# Driver Code\n",
        "arr = [4, 12, 23, 9, 21, 1, 35, 2, 24]\n",
        "n = len(arr)\n",
        "\n",
        "max_sum = maxSubArraySum(arr, 0, n - 1)\n",
        "print(\"Maximum contiguous sum is\", max_sum)\n",
        "\n",
        "arr = [12, 51, 23, 84, 5, 9]\n",
        "n = len(arr)\n",
        "\n",
        "max_sum = maxSubArraySum(arr, 0, n - 1)\n",
        "print(\"Maximum contiguous sum is\", max_sum)"
      ],
      "metadata": {
        "colab": {
          "base_uri": "https://localhost:8080/"
        },
        "id": "gNMJyTQcRm2l",
        "outputId": "1bf5eece-b173-4e0c-c818-08045b00fea1"
      },
      "execution_count": 12,
      "outputs": [
        {
          "output_type": "stream",
          "name": "stdout",
          "text": [
            "Maximum contiguous sum is 131\n",
            "Maximum contiguous sum is 184\n"
          ]
        }
      ]
    },
    {
      "cell_type": "code",
      "source": [
        "def find_min_max(arr):\n",
        "  if not arr:\n",
        "    return None, None  # Jika array kosong, kembalikan None\n",
        "\n",
        "  min_value = arr[0]\n",
        "  max_value = arr[0]\n",
        "\n",
        "  for num in arr:\n",
        "    if num < min_value:\n",
        "      min_value = num\n",
        "    if num > max_value:\n",
        "      max_value = num\n",
        "\n",
        "  return min_value, max_value"
      ],
      "metadata": {
        "id": "FHlpmhouMe42"
      },
      "execution_count": 10,
      "outputs": []
    },
    {
      "cell_type": "code",
      "source": [
        "# Contoh penggunaan\n",
        "numbers = [4, 12, 23, 9, 21, 1, 35, 2, 24]\n",
        "min_num, max_num = find_min_max(numbers)\n",
        "print(\"Nilai minimum:\", min_num)\n",
        "print(\"Nilai maksimum:\", max_num)"
      ],
      "metadata": {
        "colab": {
          "base_uri": "https://localhost:8080/"
        },
        "id": "o-Z3IT_YRqyF",
        "outputId": "8f8c9fb7-1013-47c3-98ae-56f9225a41a9"
      },
      "execution_count": 9,
      "outputs": [
        {
          "output_type": "stream",
          "name": "stdout",
          "text": [
            "Nilai minimum: 1\n",
            "Nilai maksimum: 35\n"
          ]
        }
      ]
    },
    {
      "cell_type": "markdown",
      "source": [
        "## Contoh Kasus 2"
      ],
      "metadata": {
        "id": "NHHsyxy-Sn9y"
      }
    },
    {
      "cell_type": "code",
      "source": [
        "def divideAndConquer_Max(arr, ind, len):\n",
        "    maximum = -1;\n",
        "\n",
        "    if (ind >= len - 2):\n",
        "        if (arr[ind] > arr[ind + 1]):\n",
        "            return arr[ind];\n",
        "        else:\n",
        "            return arr[ind + 1];\n",
        "\n",
        "    maximum = divideAndConquer_Max(arr, ind + 1, len);\n",
        "\n",
        "    if (arr[ind] > maximum):\n",
        "        return arr[ind];\n",
        "    else:\n",
        "        return maximum;\n",
        "\n",
        "def divideAndConquer_Min(arr, ind, len):\n",
        "    minimum = 0;\n",
        "\n",
        "    if (ind >= len - 2):\n",
        "        if (arr[ind] < arr[ind + 1]):\n",
        "            return arr[ind];\n",
        "        else:\n",
        "            return arr[ind + 1];\n",
        "\n",
        "    minimum = divideAndConquer_Min(arr, ind + 1, len);\n",
        "\n",
        "    if (arr[ind] < minimum):\n",
        "        return arr[ind];\n",
        "    else:\n",
        "        return minimum;\n",
        "\n",
        "    minimum, maximum = 0, -1;"
      ],
      "metadata": {
        "id": "FS7-plZBNF1Y"
      },
      "execution_count": 16,
      "outputs": []
    },
    {
      "cell_type": "code",
      "source": [
        "# array initialization\n",
        "arr = [6, 4, 8, 90, 12, 56, 7, 1, 63];\n",
        "\n",
        "maximum = divideAndConquer_Max(arr, 0, 9);\n",
        "minimum = divideAndConquer_Min(arr, 0, 9);\n",
        "\n",
        "print(\"The minimum number in the array is:\", minimum);\n",
        "print(\"The maximum number in the array is:\", maximum);"
      ],
      "metadata": {
        "colab": {
          "base_uri": "https://localhost:8080/"
        },
        "id": "y1XWiSAfR2B8",
        "outputId": "0ae3abfa-cc44-4629-e67d-b8edb7a5b65d"
      },
      "execution_count": 15,
      "outputs": [
        {
          "output_type": "stream",
          "name": "stdout",
          "text": [
            "The minimum number in the array is: 1\n",
            "The maximum number in the array is: 90\n"
          ]
        }
      ]
    },
    {
      "cell_type": "markdown",
      "source": [
        "## Merge Sort"
      ],
      "metadata": {
        "id": "6_hBDlmpSsvu"
      }
    },
    {
      "cell_type": "code",
      "source": [
        "def mergeSort(array):\n",
        "  if len(array) > 1:\n",
        "    # Tentukan titik tengah untuk membagi array\n",
        "    r = len(array)//2\n",
        "\n",
        "    # Bagi array menjadi dua bagian\n",
        "    L = array[:r]\n",
        "    M = array[r:]\n",
        "\n",
        "    # Rekursif panggil mergeSort untuk kedua bagian\n",
        "    mergeSort(L)\n",
        "    mergeSort(M)\n",
        "\n",
        "    # Inisialisasi indeks untuk penggabungan\n",
        "    i = j = k = 0\n",
        "\n",
        "    # Gabungkan kedua bagian yang telah terurut\n",
        "    while i < len(L) and j < len(M):\n",
        "      if L[i] < M[j]:\n",
        "        array[k] = L[i]\n",
        "        i += 1\n",
        "      else:\n",
        "        array[k] = M[j]\n",
        "        j += 1\n",
        "      k += 1\n",
        "\n",
        "    # Salin sisa elemen (jika ada) dari L atau M ke array\n",
        "    while i < len(L):\n",
        "      array[k] = L[i]\n",
        "      i += 1\n",
        "      k += 1\n",
        "\n",
        "    while j < len(M):\n",
        "      array[k] = M[j]\n",
        "      j += 1\n",
        "      k += 1"
      ],
      "metadata": {
        "id": "jimyyBmcPEKM"
      },
      "execution_count": 13,
      "outputs": []
    },
    {
      "cell_type": "code",
      "source": [
        "def printList(array):\n",
        "  for i in range(len(array)):\n",
        "    print(array[i], end=\"\")\n",
        "  print()\n",
        "\n",
        "array = [8, 3, 2, 9, 7, 1, 5, 4]\n",
        "\n",
        "mergeSort(array)\n",
        "\n",
        "print(\"Sorted array is: \")\n",
        "printList(array)"
      ],
      "metadata": {
        "colab": {
          "base_uri": "https://localhost:8080/"
        },
        "id": "5NWTgXcmR5w2",
        "outputId": "42b9a979-5c11-41af-b66b-c0ab017a9848"
      },
      "execution_count": 14,
      "outputs": [
        {
          "output_type": "stream",
          "name": "stdout",
          "text": [
            "Sorted array is: \n",
            "12345789\n"
          ]
        }
      ]
    },
    {
      "cell_type": "markdown",
      "source": [
        "## Insertion Sort"
      ],
      "metadata": {
        "id": "DM0MCPK-S0-8"
      }
    },
    {
      "cell_type": "code",
      "source": [
        "def insertion_sort(arr):\n",
        "  for i in range(1, len(arr)):\n",
        "    key = arr[i]\n",
        "    j = i - 1\n",
        "    while j >= 0 and key < arr[j]:\n",
        "      arr[j + 1] = arr[j]\n",
        "      j -= 1\n",
        "    arr[j + 1] = key\n",
        "  return arr\n",
        "\n",
        "# Example usage\n",
        "arr = [4, 12, 23, 9, 21, 1, 5, 2]\n",
        "print(\"Sorted array is:\", insertion_sort(arr))"
      ],
      "metadata": {
        "colab": {
          "base_uri": "https://localhost:8080/"
        },
        "id": "fYhva8y1RXli",
        "outputId": "66d34edd-4e73-4f04-c1d4-5af02e309f74"
      },
      "execution_count": 18,
      "outputs": [
        {
          "output_type": "stream",
          "name": "stdout",
          "text": [
            "Sorted array is: [1, 2, 4, 5, 9, 12, 21, 23]\n"
          ]
        }
      ]
    },
    {
      "cell_type": "markdown",
      "source": [
        "## Quick Sort"
      ],
      "metadata": {
        "id": "fx3LdVX7UAGR"
      }
    },
    {
      "cell_type": "code",
      "source": [
        "def partition(array, low, high):\n",
        "\n",
        "    pivot = array[high]  # Choose the rightmost element as pivot\n",
        "    i = low - 1         # Pointer for greater elements\n",
        "\n",
        "    for j in range(low, high):\n",
        "        if array[j] <= pivot:  # If element smaller than pivot is found\n",
        "            i += 1\n",
        "            array[i], array[j] = array[j], array[i]  # Swap elements\n",
        "\n",
        "    array[i + 1], array[high] = array[high], array[i + 1]\n",
        "    return i + 1\n",
        "\n",
        "def quicksort(array, low, high):\n",
        "\n",
        "    if low < high:\n",
        "        pi = partition(array, low, high)  # Partition the array\n",
        "        quicksort(array, low, pi - 1)      # Sort the left subarray\n",
        "        quicksort(array, pi + 1, high)     # Sort the right subarray\n",
        "\n",
        "# Example usage\n",
        "array = [1, 7, 4, 1, 10, 9, -2]\n",
        "n = len(array)\n",
        "quicksort(array, 0, n - 1)\n",
        "print(\"Sorted array:\", array)"
      ],
      "metadata": {
        "colab": {
          "base_uri": "https://localhost:8080/"
        },
        "id": "j2mOEoFMT7vF",
        "outputId": "53298586-d5b6-48e6-a6fa-3f7156d99fed"
      },
      "execution_count": 20,
      "outputs": [
        {
          "output_type": "stream",
          "name": "stdout",
          "text": [
            "Sorted array: [-2, 1, 1, 4, 7, 9, 10]\n"
          ]
        }
      ]
    },
    {
      "cell_type": "markdown",
      "source": [
        "## Implementasi Algoritma"
      ],
      "metadata": {
        "id": "VAn9mxf3U0Lo"
      }
    },
    {
      "cell_type": "markdown",
      "source": [
        "## Inversi dalam 1 Array"
      ],
      "metadata": {
        "id": "qXGjrfJGWVA9"
      }
    },
    {
      "cell_type": "code",
      "source": [
        "def countInversion(arr):\n",
        "    result = 0\n",
        "\n",
        "    for i in range(len(arr)):\n",
        "        for j in range(i+1, len(arr)):\n",
        "            if arr[i] > arr[j]:\n",
        "                result += 1\n",
        "\n",
        "    return result\n",
        "\n",
        "arr = [21, 70, 36, 14, 25]\n",
        "\n",
        "result = countInversion(arr)\n",
        "print(result)"
      ],
      "metadata": {
        "colab": {
          "base_uri": "https://localhost:8080/"
        },
        "id": "E563Ga9PUpB7",
        "outputId": "aa16ced8-3a08-4335-bd63-fac7c153de57"
      },
      "execution_count": 21,
      "outputs": [
        {
          "output_type": "stream",
          "name": "stdout",
          "text": [
            "6\n"
          ]
        }
      ]
    },
    {
      "cell_type": "code",
      "source": [
        "def countInversion(arr):\n",
        "    icount = 0\n",
        "\n",
        "    if len(arr) <= 1:\n",
        "        return icount\n",
        "\n",
        "    mid = len(arr) // 2\n",
        "    left = arr[:mid]\n",
        "    right = arr[mid:]\n",
        "\n",
        "    icount += countInversion(left)\n",
        "    icount += countInversion(right)\n",
        "\n",
        "    i = j = k = 0\n",
        "\n",
        "    #print(Left)\n",
        "    #print(right)\n",
        "    while i < len(left) and j < len(right):\n",
        "        if left[i] < right[j]:\n",
        "            arr[k] = left[i]\n",
        "            i += 1\n",
        "\n",
        "        else:\n",
        "            #print(left[i], right[j])\n",
        "            arr[k] = right[j]\n",
        "            j += 1\n",
        "            icount += (mid-i)\n",
        "\n",
        "        k += 1\n",
        "    while i < len(left):\n",
        "        arr[k] = left[i]\n",
        "        i += 1\n",
        "        k += 1\n",
        "\n",
        "    while j < len(right):\n",
        "        arr[k] = right[j]\n",
        "        j += 1\n",
        "        k += 1\n",
        "\n",
        "    return icount"
      ],
      "metadata": {
        "id": "RnkJeSkFU-JR"
      },
      "execution_count": 23,
      "outputs": []
    },
    {
      "cell_type": "code",
      "source": [
        "arr=[1,20,6,4,5]"
      ],
      "metadata": {
        "id": "fhtpXCtQV5Yr"
      },
      "execution_count": 24,
      "outputs": []
    },
    {
      "cell_type": "code",
      "source": [
        "result = countInversion(arr)\n",
        "print(result)"
      ],
      "metadata": {
        "colab": {
          "base_uri": "https://localhost:8080/"
        },
        "id": "GHB7bBjGV9Lt",
        "outputId": "eb3f7882-ee67-484d-b7f2-b7825fe93971"
      },
      "execution_count": 25,
      "outputs": [
        {
          "output_type": "stream",
          "name": "stdout",
          "text": [
            "5\n"
          ]
        }
      ]
    },
    {
      "cell_type": "markdown",
      "source": [
        "## Maximum Subarray Sum"
      ],
      "metadata": {
        "id": "UV0aXOl8XFRs"
      }
    },
    {
      "cell_type": "code",
      "source": [
        "def maxSubSum(arr):\n",
        "    max_so_far = 0\n",
        "    max_ending_here = 0\n",
        "\n",
        "    for i in range(len(arr)):\n",
        "        max_ending_here += arr[i]\n",
        "\n",
        "        if max_ending_here > max_so_far:\n",
        "            max_so_far = max_ending_here\n",
        "\n",
        "        if max_ending_here < 0:\n",
        "            max_ending_here = 0\n",
        "\n",
        "    return max_so_far"
      ],
      "metadata": {
        "id": "Y9psxvcUWQ_p"
      },
      "execution_count": 26,
      "outputs": []
    },
    {
      "cell_type": "code",
      "source": [
        "arr = [-2, -5, 6, -2, -3, 1, 5, -6]\n",
        "result = maxSubSum(arr)\n",
        "print(result)"
      ],
      "metadata": {
        "colab": {
          "base_uri": "https://localhost:8080/"
        },
        "id": "4DzN3BtMXh6e",
        "outputId": "389d9e48-5832-4468-dd8f-6a72dbd3459e"
      },
      "execution_count": 27,
      "outputs": [
        {
          "output_type": "stream",
          "name": "stdout",
          "text": [
            "7\n"
          ]
        }
      ]
    },
    {
      "cell_type": "code",
      "source": [
        "def maxCrossingSum(arr, low, mid, high):\n",
        "    result = 0\n",
        "    leftSum = float('-infinity')\n",
        "\n",
        "    for i in range(mid, low-1, -1):\n",
        "        result += arr[i]\n",
        "        if result > leftSum:\n",
        "            leftSum = result\n",
        "\n",
        "    result = 0\n",
        "    rightSum = float('-infinity')\n",
        "\n",
        "    for i in range(mid+1, high+1):\n",
        "        result += arr[i]\n",
        "        if result > rightSum:\n",
        "            rightSum = result\n",
        "\n",
        "    return leftSum + rightSum\n",
        "\n",
        "def maxSum(arr, low, high):\n",
        "    if low == high:\n",
        "        return arr[low]\n",
        "\n",
        "    mid = (low + high) // 2\n",
        "\n",
        "    return max(maxSum(arr, low, mid), maxSum(arr, mid+1, high), maxCrossingSum(arr, low, mid, high))"
      ],
      "metadata": {
        "id": "-mW5DgYRXryu"
      },
      "execution_count": 28,
      "outputs": []
    },
    {
      "cell_type": "code",
      "source": [
        "arr = [-2, -5, 6, -2, -3, 1, 5, -6]\n",
        "result = maxSum(arr, 0, len(arr)-1)\n",
        "print(result)"
      ],
      "metadata": {
        "colab": {
          "base_uri": "https://localhost:8080/"
        },
        "id": "CTG6dkiRYYMk",
        "outputId": "e3847ecf-1032-4110-c82a-c447994ca879"
      },
      "execution_count": 29,
      "outputs": [
        {
          "output_type": "stream",
          "name": "stdout",
          "text": [
            "7\n"
          ]
        }
      ]
    },
    {
      "cell_type": "markdown",
      "source": [
        "##  Longest Common Prefix"
      ],
      "metadata": {
        "id": "tdpPzWJbYbu5"
      }
    },
    {
      "cell_type": "code",
      "source": [
        "def longestCommonPrefix(a):\n",
        "    size = len(a)\n",
        "\n",
        "    # if size is 0, return empty string\n",
        "    if (size == 0):\n",
        "        return\n",
        "\n",
        "    if (size == 1):\n",
        "        return a[0]\n",
        "\n",
        "    # sort the array of strings\n",
        "    a.sort()\n",
        "\n",
        "    # find the minimum length from\n",
        "    # first and last string\n",
        "    end = min(len(a[0]), len(a[size - 1]))\n",
        "\n",
        "    # find the common prefix between\n",
        "    # the first and last string\n",
        "    i = 0\n",
        "    while (i < end and\n",
        "           a[0][i] == a[size - 1][i]):\n",
        "        i += 1\n",
        "\n",
        "    pre = a[0][:i]\n",
        "\n",
        "    return pre\n"
      ],
      "metadata": {
        "id": "Ze7DHiwEYaTF"
      },
      "execution_count": 30,
      "outputs": []
    },
    {
      "cell_type": "code",
      "source": [
        "arr = [\"geeksforgeeks\", \"geeks\", \"geek\", \"geezer\"]\n",
        "result = longestCommonPrefix(arr)\n",
        "print(result)"
      ],
      "metadata": {
        "colab": {
          "base_uri": "https://localhost:8080/"
        },
        "id": "WlUN3KpSZCBF",
        "outputId": "50dea593-a60b-47da-dbc3-fe0d6bed268a"
      },
      "execution_count": 31,
      "outputs": [
        {
          "output_type": "stream",
          "name": "stdout",
          "text": [
            "gee\n"
          ]
        }
      ]
    },
    {
      "cell_type": "code",
      "source": [
        "arr = [\"apple\", \"ape\", \"april\"]\n",
        "result = longestCommonPrefix(arr)\n",
        "print(result)"
      ],
      "metadata": {
        "colab": {
          "base_uri": "https://localhost:8080/"
        },
        "id": "1qIUdXmAZDhu",
        "outputId": "4337bebf-25fa-4d2f-b685-46a36a530f7a"
      },
      "execution_count": 32,
      "outputs": [
        {
          "output_type": "stream",
          "name": "stdout",
          "text": [
            "ap\n"
          ]
        }
      ]
    },
    {
      "cell_type": "markdown",
      "source": [
        "## Median Dua Array Urut Sama Ukuran"
      ],
      "metadata": {
        "id": "MlH-Q_UDZJbw"
      }
    },
    {
      "cell_type": "code",
      "source": [
        "def medianOfArray(arr1, arr2, n):\n",
        "    m1 = -1  # first number\n",
        "    m2 = -1  # second number\n",
        "    count = 0\n",
        "    i = j = 0\n",
        "\n",
        "    while count < n+1:\n",
        "        count += 1\n",
        "\n",
        "        if i == n:  # i==5 index error if arr1[i]<arr2[j] is checked\n",
        "\n",
        "            m2 = arr2[0]\n",
        "            break\n",
        "\n",
        "        if arr1[i] < arr2[j]:\n",
        "            m1 = m2\n",
        "            m2 = arr1[i]\n",
        "            i += 1\n",
        "        else:\n",
        "            m1 = m2\n",
        "            m2 = arr2[j]\n",
        "            j += 1\n",
        "\n",
        "    return (m1 + m2) // 2"
      ],
      "metadata": {
        "id": "tp_UkDwSZP86"
      },
      "execution_count": 35,
      "outputs": []
    },
    {
      "cell_type": "code",
      "source": [
        "arr1 = [1, 12, 15, 26, 38]\n",
        "arr2 = [2, 13, 17, 30, 45]\n",
        "\n",
        "print(medianOfArray(arr1, arr2, len(arr1)))"
      ],
      "metadata": {
        "colab": {
          "base_uri": "https://localhost:8080/"
        },
        "id": "516dZvV_Zdpv",
        "outputId": "7bc3e655-9b30-4e1e-d6c5-5e2847917e0b"
      },
      "execution_count": 36,
      "outputs": [
        {
          "output_type": "stream",
          "name": "stdout",
          "text": [
            "16\n"
          ]
        }
      ]
    },
    {
      "cell_type": "markdown",
      "source": [
        "## Median Dua Array Urut Berbeda Ukuran"
      ],
      "metadata": {
        "id": "eBRvcGp2aXcZ"
      }
    },
    {
      "cell_type": "code",
      "source": [
        "def Solution(arr):\n",
        "    n = len(arr)\n",
        "\n",
        "    # If length of array is even\n",
        "    if n % 2 == 0:\n",
        "        z = n // 2\n",
        "        e = arr[z]\n",
        "        q = arr[z - 1]\n",
        "        ans = (e + q) / 2\n",
        "        return ans\n",
        "\n",
        "    # If length of array is odd\n",
        "    else:\n",
        "        z = n // 2\n",
        "        ans = arr[z]\n",
        "        return ans"
      ],
      "metadata": {
        "id": "ihmnANFuZtXq"
      },
      "execution_count": 37,
      "outputs": []
    },
    {
      "cell_type": "code",
      "source": [
        "arr1 = [-5, 3, 6, 12, 15]\n",
        "arr2 = [-12, -10, -6, -3, 4, 10]\n",
        "\n",
        "# Concatenating the two arrays\n",
        "arr3 = arr1 + arr2\n",
        "\n",
        "# Sorting the resultant array\n",
        "arr3.sort()\n",
        "\n",
        "print(\"Median =\", Solution(arr3))"
      ],
      "metadata": {
        "colab": {
          "base_uri": "https://localhost:8080/"
        },
        "id": "9ATk-nV6amh7",
        "outputId": "727d0672-56c7-42a8-841e-142f660c396d"
      },
      "execution_count": 38,
      "outputs": [
        {
          "output_type": "stream",
          "name": "stdout",
          "text": [
            "Median = 3\n"
          ]
        }
      ]
    },
    {
      "cell_type": "markdown",
      "source": [
        "## Mencari Elemen Terbesar Dari Array dan Lebih Kecil Dari Angka"
      ],
      "metadata": {
        "id": "71U_UDXVaz3i"
      }
    },
    {
      "cell_type": "code",
      "source": [
        "def floorSorted(arr, low, high, x):\n",
        "    #print(Low, high)\n",
        "    if low > high:\n",
        "        return -1\n",
        "\n",
        "    if arr[low] > x:\n",
        "        #print(\"inside\")\n",
        "        return -1\n",
        "\n",
        "    if arr[high] <= x:\n",
        "        return arr[high]\n",
        "\n",
        "    mid = (low + high) // 2\n",
        "\n",
        "    if arr[mid] == x:\n",
        "        return arr[mid]\n",
        "\n",
        "    if mid > 0 and x >= arr[mid - 1] and arr[mid] > x:\n",
        "        return arr[mid - 1]\n",
        "\n",
        "    if mid < high and x < arr[mid + 1] and x >= arr[mid]:\n",
        "        return arr[mid]\n",
        "\n",
        "    if x > arr[mid]:\n",
        "        return floorSorted(arr, mid + 1, high, x)\n",
        "\n",
        "    else:\n",
        "        return floorSorted(arr, low, mid - 1, x)"
      ],
      "metadata": {
        "id": "ywj89UFna-dx"
      },
      "execution_count": 39,
      "outputs": []
    },
    {
      "cell_type": "code",
      "source": [
        "arr = [1, 2, 8, 10, 12, 14, 19]\n",
        "\n",
        "x = 5\n",
        "\n",
        "print(floorSorted(arr, 0, len(arr) - 1, x))"
      ],
      "metadata": {
        "colab": {
          "base_uri": "https://localhost:8080/"
        },
        "id": "gMZIEl2QbExn",
        "outputId": "01d2c58e-0e5a-40bf-b825-2a0b9e6fb438"
      },
      "execution_count": 40,
      "outputs": [
        {
          "output_type": "stream",
          "name": "stdout",
          "text": [
            "2\n"
          ]
        }
      ]
    },
    {
      "cell_type": "markdown",
      "source": [
        "## Nilai Terdekat"
      ],
      "metadata": {
        "id": "wEEE5A3kbXj_"
      }
    },
    {
      "cell_type": "code",
      "source": [
        "def closestNumber(arr, low, high, x):\n",
        "    if low > high:\n",
        "        return -1\n",
        "\n",
        "    if arr[high] <= x:\n",
        "        return arr[high]\n",
        "\n",
        "    if arr[low] >= x:\n",
        "        return arr[low]\n",
        "\n",
        "    mid = (low + high) // 2\n",
        "\n",
        "    if arr[mid] == x:\n",
        "        return arr[mid]\n",
        "\n",
        "    abs_mid = abs(arr[mid]\n",
        " - x)\n",
        "\n",
        "    if mid > 0:\n",
        "        abs_left = abs(arr[mid - 1] - x)\n",
        "\n",
        "        if abs_left < abs_mid:\n",
        "            return closestNumber(arr, low, mid - 1, x)\n",
        "\n",
        "    if mid < high:\n",
        "        abs_right = abs(arr[mid + 1] - x)\n",
        "\n",
        "        if abs_right < abs_mid:\n",
        "            return closestNumber(arr, mid + 1, high, x)\n",
        "\n",
        "    #print('after')\n",
        "    return arr[mid]"
      ],
      "metadata": {
        "id": "R94ZTUK8ba4g"
      },
      "execution_count": 41,
      "outputs": []
    },
    {
      "cell_type": "code",
      "source": [
        "arr = [2, 5, 6, 7, 8, 8, 9]\n",
        "x = 9\n",
        "print(closestNumber(arr, 0, len(arr)-1, x))"
      ],
      "metadata": {
        "colab": {
          "base_uri": "https://localhost:8080/"
        },
        "id": "3i68YDYebePB",
        "outputId": "730d627d-9197-4e81-ba10-4336af21448e"
      },
      "execution_count": 42,
      "outputs": [
        {
          "output_type": "stream",
          "name": "stdout",
          "text": [
            "9\n"
          ]
        }
      ]
    },
    {
      "cell_type": "markdown",
      "source": [
        "## Fixed Point"
      ],
      "metadata": {
        "id": "HK_yWXlFbhdB"
      }
    },
    {
      "cell_type": "code",
      "source": [
        "def fixedPoint(arr, low, high):\n",
        "    if low > high:\n",
        "        return -1\n",
        "\n",
        "    if arr[high] == high:\n",
        "        return arr[high]\n",
        "\n",
        "    if arr[low] == low:\n",
        "        return arr[low]\n",
        "\n",
        "    mid = (low + high) // 2\n",
        "\n",
        "    if arr[mid] == mid:\n",
        "        return arr[mid]\n",
        "\n",
        "    if mid > arr[mid]:\n",
        "        return fixedPoint(arr, mid + 1, high)\n",
        "\n",
        "    else:\n",
        "        return fixedPoint(arr, low, mid - 1)"
      ],
      "metadata": {
        "id": "ZE56DtmNbyBs"
      },
      "execution_count": 43,
      "outputs": []
    },
    {
      "cell_type": "code",
      "source": [
        "arr = [9, 1, 4, 5, 2]\n",
        "print(fixedPoint(arr, 0, len(arr)-1))"
      ],
      "metadata": {
        "colab": {
          "base_uri": "https://localhost:8080/"
        },
        "id": "YFZx1mCDb7kS",
        "outputId": "d09bc8b4-8697-4d56-bf29-b4c6f79dcd81"
      },
      "execution_count": 44,
      "outputs": [
        {
          "output_type": "stream",
          "name": "stdout",
          "text": [
            "1\n"
          ]
        }
      ]
    }
  ]
}