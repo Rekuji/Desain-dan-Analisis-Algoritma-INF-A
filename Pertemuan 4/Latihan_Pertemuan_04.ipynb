{
  "nbformat": 4,
  "nbformat_minor": 0,
  "metadata": {
    "colab": {
      "provenance": []
    },
    "kernelspec": {
      "name": "python3",
      "display_name": "Python 3"
    },
    "language_info": {
      "name": "python"
    }
  },
  "cells": [
    {
      "cell_type": "code",
      "source": [
        "var1 = 1\n",
        "var2 = 2\n",
        "var3 = 3\n",
        "var1, var2, var3 = var2,var3,var1"
      ],
      "metadata": {
        "id": "QNL2LEjiK6ci"
      },
      "execution_count": null,
      "outputs": []
    },
    {
      "cell_type": "code",
      "execution_count": null,
      "metadata": {
        "colab": {
          "base_uri": "https://localhost:8080/"
        },
        "id": "6XWYB_RHKzRe",
        "outputId": "bba49eab-e95e-4611-dfa9-43a41f8205af"
      },
      "outputs": [
        {
          "output_type": "stream",
          "name": "stdout",
          "text": [
            "2 3 1\n"
          ]
        }
      ],
      "source": [
        "print(var1, var2, var3)"
      ]
    },
    {
      "cell_type": "code",
      "source": [
        "def BubbleSort(list):\n",
        "  # Exchange the elements to arrange in order\n",
        "  lastElementIndex = len(list)-1\n",
        "  for passNo in range(lastElementIndex, 0,-1):\n",
        "    for idx in range(passNo):\n",
        "      if list[idx]>list[idx+1]:\n",
        "        list[idx], list[idx+1]=list[idx+1], list[idx]\n",
        "  return list\n",
        "\n",
        "\n",
        "# Masukan angka dengan urutan Lainnya\n",
        "list = [25,21,22,24,23,27,26]\n",
        "\n",
        "BubbleSort(list)"
      ],
      "metadata": {
        "colab": {
          "base_uri": "https://localhost:8080/"
        },
        "id": "7P7iq8iPLb20",
        "outputId": "2d2e53bf-0acf-48df-f8f9-cb926cfc5a92"
      },
      "execution_count": null,
      "outputs": [
        {
          "output_type": "execute_result",
          "data": {
            "text/plain": [
              "[21, 22, 23, 24, 25, 26, 27]"
            ]
          },
          "metadata": {},
          "execution_count": 8
        }
      ]
    },
    {
      "cell_type": "code",
      "source": [
        "def BubbleSortlatihan(list):\n",
        "  # Exchange the elements to arrange in order\n",
        "  lastElementIndex = len(list)-1\n",
        "  for passNo in range(lastElementIndex, 0,-1):\n",
        "    for idx in range(passNo):\n",
        "      if list[idx]>list[idx+1]:\n",
        "        list[idx], list[idx+1]=list[idx+1], list[idx]\n",
        "  return list\n",
        "\n",
        "\n",
        "# Masukan angka dengan urutan Lainnya\n",
        "listlatihan = [100,20,60,90,40,30,10]\n",
        "\n",
        "BubbleSortlatihan(listlatihan)"
      ],
      "metadata": {
        "colab": {
          "base_uri": "https://localhost:8080/"
        },
        "id": "5HIsTPsIMG7V",
        "outputId": "17388d97-2824-472f-ac5c-880489c1662c"
      },
      "execution_count": null,
      "outputs": [
        {
          "output_type": "execute_result",
          "data": {
            "text/plain": [
              "[10, 20, 30, 40, 60, 90, 100]"
            ]
          },
          "metadata": {},
          "execution_count": 9
        }
      ]
    },
    {
      "cell_type": "code",
      "source": [
        "def InsertionSort(list):\n",
        "  for i in range(1, len(list)):\n",
        "    j = i-1\n",
        "    next = list[i]\n",
        "    # Compare the current element with next one\n",
        "    while (list[j] > next) and (j >= 0):\n",
        "      list[j+1] = list[j]\n",
        "      j = j-1\n",
        "    list[j+1] = next\n",
        "  return list\n",
        "\n",
        "\n",
        "# Masukan angka dengan urutan Lainnya\n",
        "list = [35,31,32,34,33,37,36]\n",
        "InsertionSort(list)"
      ],
      "metadata": {
        "colab": {
          "base_uri": "https://localhost:8080/"
        },
        "id": "DNWxyHHRNf2V",
        "outputId": "9e27a6c5-5f02-4f50-ab24-e34a50ad0255"
      },
      "execution_count": null,
      "outputs": [
        {
          "output_type": "execute_result",
          "data": {
            "text/plain": [
              "[31, 32, 33, 34, 35, 36, 37]"
            ]
          },
          "metadata": {},
          "execution_count": 11
        }
      ]
    },
    {
      "cell_type": "code",
      "source": [
        "def InsertionSortlatihan(list):\n",
        "  for i in range(1, len(list)):\n",
        "    j = i-1\n",
        "    next = list[i]\n",
        "    # Compare the current element with next one\n",
        "    while (list[j] > next) and (j >= 0):\n",
        "      list[j+1] = list[j]\n",
        "      j = j-1\n",
        "    list[j+1] = next\n",
        "  return list\n",
        "\n",
        "\n",
        "# Masukan angka dengan urutan Lainnya\n",
        "listlatihan = [89,12,57,16,25,11,75]\n",
        "InsertionSortlatihan(listlatihan)"
      ],
      "metadata": {
        "colab": {
          "base_uri": "https://localhost:8080/"
        },
        "id": "Q5LaQpjdOH2O",
        "outputId": "750a2f0d-639c-4a86-c4c8-9952399b2c42"
      },
      "execution_count": null,
      "outputs": [
        {
          "output_type": "execute_result",
          "data": {
            "text/plain": [
              "[11, 12, 16, 25, 57, 75, 89]"
            ]
          },
          "metadata": {},
          "execution_count": 12
        }
      ]
    },
    {
      "cell_type": "code",
      "source": [
        "def SelectionSort(list):\n",
        "  for fill_slot in range(len(list)-1, 0, -1):\n",
        "    max_index = 0\n",
        "    for location in range(1, fill_slot+1):\n",
        "      if list[location] > list[max_index]:\n",
        "        max_index = location\n",
        "    list[fill_slot], list[max_index] = list[max_index], list[fill_slot]\n",
        "  return list\n",
        "\n",
        "list = [70,15,25,19,34,44]\n",
        "SelectionSort(list)\n"
      ],
      "metadata": {
        "colab": {
          "base_uri": "https://localhost:8080/"
        },
        "id": "ZE8TJjjxOb3Y",
        "outputId": "1c5a5c9c-ae9e-47cb-9a54-e860aaf81fed"
      },
      "execution_count": null,
      "outputs": [
        {
          "output_type": "execute_result",
          "data": {
            "text/plain": [
              "[15, 19, 25, 34, 44, 70]"
            ]
          },
          "metadata": {},
          "execution_count": 13
        }
      ]
    },
    {
      "cell_type": "code",
      "source": [
        "def SelectionSortDescending(list):\n",
        "  for fill_slot in range(len(list)-1, 0, -1):\n",
        "    min_index = 0\n",
        "    for location in range(1, fill_slot+1):\n",
        "      if list[location] < list[min_index]:\n",
        "        min_index = location\n",
        "    list[fill_slot], list[min_index] = list[min_index], list[fill_slot]\n",
        "  return list\n",
        "\n",
        "list = [89,12,57,16,25]\n",
        "print(SelectionSortDescending(list))\n",
        "print(SelectionSort(list))"
      ],
      "metadata": {
        "colab": {
          "base_uri": "https://localhost:8080/"
        },
        "id": "GpubHoHiOep4",
        "outputId": "03b562c6-2470-4f5d-a5c4-2cea1d5f3e49"
      },
      "execution_count": null,
      "outputs": [
        {
          "output_type": "stream",
          "name": "stdout",
          "text": [
            "[89, 57, 25, 16, 12]\n",
            "[12, 16, 25, 57, 89]\n"
          ]
        }
      ]
    },
    {
      "cell_type": "code",
      "source": [
        "def LinearSearch(list, item):\n",
        "  index = 0\n",
        "  found = False\n",
        "  # Match the value with each data element\n",
        "  while index < len(list) and found is False:\n",
        "    if list[index] == item:\n",
        "      found = True\n",
        "    else:\n",
        "      index = index + 1\n",
        "  return found\n",
        "\n",
        "\n",
        "list = [12, 33, 11, 99, 22, 55, 90]\n",
        "print(LinearSearch(list, 12))\n",
        "print(LinearSearch(list, 91))"
      ],
      "metadata": {
        "colab": {
          "base_uri": "https://localhost:8080/"
        },
        "id": "hLDmpp2IPCNn",
        "outputId": "6413a46e-4b75-4e96-bc25-d4689e6f1d15"
      },
      "execution_count": null,
      "outputs": [
        {
          "output_type": "stream",
          "name": "stdout",
          "text": [
            "True\n",
            "False\n"
          ]
        }
      ]
    },
    {
      "cell_type": "code",
      "source": [
        "def LinearSearch(list, item):\n",
        "  index = 0\n",
        "  found = False\n",
        "  # Match the value with each data element\n",
        "  while index < len(list) and found is False:\n",
        "    if list[index] == item:\n",
        "      found = True\n",
        "    else:\n",
        "      index = index + 1\n",
        "  return found\n",
        "\n",
        "\n",
        "list = ['y','u','i','w','o','a','q','u','j','p']\n",
        "print(LinearSearch(list, 'a'))\n"
      ],
      "metadata": {
        "colab": {
          "base_uri": "https://localhost:8080/"
        },
        "id": "JIpNy5-UPpdB",
        "outputId": "134b03e3-4e22-4e2a-ef68-ff533e09dbaa"
      },
      "execution_count": null,
      "outputs": [
        {
          "output_type": "stream",
          "name": "stdout",
          "text": [
            "True\n"
          ]
        }
      ]
    },
    {
      "cell_type": "code",
      "source": [
        "def BinarySearch(list, item):\n",
        "  first = 0\n",
        "  last = len(list)-1\n",
        "  found = False\n",
        "\n",
        "  while first<=last and not found:\n",
        "    midpoint = (first + last)//2\n",
        "    if list[midpoint] == item:\n",
        "      found = True\n",
        "    else:\n",
        "      if item < list[midpoint]:\n",
        "        last = midpoint-1\n",
        "      else:\n",
        "        first = midpoint+1\n",
        "  return found\n",
        "\n",
        "\n",
        "list = [12, 33, 11, 99, 22, 55, 90]\n",
        "sorted_list = BubbleSort(list)\n",
        "print(BinarySearch(list, 12))\n",
        "print(BinarySearch(list, 91))"
      ],
      "metadata": {
        "colab": {
          "base_uri": "https://localhost:8080/"
        },
        "id": "p9dttNL-P_s4",
        "outputId": "e7ad2fef-3c30-44e2-8285-23ee2a582337"
      },
      "execution_count": null,
      "outputs": [
        {
          "output_type": "stream",
          "name": "stdout",
          "text": [
            "True\n",
            "False\n"
          ]
        }
      ]
    },
    {
      "cell_type": "code",
      "source": [
        "def BinarySearch(list, item):\n",
        "  first = 0\n",
        "  last = len(list)-1\n",
        "  found = False\n",
        "\n",
        "  while first<=last and not found:\n",
        "    midpoint = (first + last)//2\n",
        "    if list[midpoint] == item:\n",
        "      found = True\n",
        "    else:\n",
        "      if item < list[midpoint]:\n",
        "        last = midpoint-1\n",
        "      else:\n",
        "        first = midpoint+1\n",
        "  return found\n",
        "\n",
        "\n",
        "list = ['y','u','i','w','o','a','q','u','j','p']\n",
        "sorted_list = BubbleSort(list)\n",
        "print(BinarySearch(list, 'a'))"
      ],
      "metadata": {
        "colab": {
          "base_uri": "https://localhost:8080/"
        },
        "id": "H0fzRnLdQSSi",
        "outputId": "61bf3de0-5eef-4bc3-85ee-06b658746ea0"
      },
      "execution_count": null,
      "outputs": [
        {
          "output_type": "stream",
          "name": "stdout",
          "text": [
            "True\n"
          ]
        }
      ]
    },
    {
      "cell_type": "code",
      "source": [
        "def IntPolsearch(list, x):\n",
        "  idx0 = 0\n",
        "  idxn = (len(list) - 1)\n",
        "  found = False\n",
        "\n",
        "  while idx0 <= idxn and x >= list[idx0] and x <= list[idxn]:\n",
        "    # Find the mid point\n",
        "    mid = idx0 +int(((float(idxn - idx0) / (list[idxn] - list[idx0])) * (x - list[idx0])))\n",
        "\n",
        "    # Compare the value at mid point with search value\n",
        "    if list[mid] == x:\n",
        "      found = True\n",
        "      return found\n",
        "\n",
        "    if list[mid] < x:\n",
        "      idx0 = mid + 1\n",
        "  return found\n",
        "\n",
        "list = [12, 33, 11, 99, 22, 55, 90]\n",
        "sorted_list = BubbleSort(list)\n",
        "print(IntPolsearch(list, 12))\n",
        "print(IntPolsearch(list, 91))"
      ],
      "metadata": {
        "colab": {
          "base_uri": "https://localhost:8080/"
        },
        "id": "OCzwnPeZQZcH",
        "outputId": "06a751b3-89a6-4817-e326-7343fb1eecd4"
      },
      "execution_count": null,
      "outputs": [
        {
          "output_type": "stream",
          "name": "stdout",
          "text": [
            "True\n",
            "False\n"
          ]
        }
      ]
    },
    {
      "cell_type": "code",
      "source": [
        "def IntPolsearch(list, x):\n",
        "    idx0 = 0\n",
        "    idxn = (len(list) - 1)\n",
        "    found = False\n",
        "\n",
        "    while idx0 <= idxn and x >= list[idx0] and x <= list[idxn]:\n",
        "        # Find the mid point\n",
        "        mid = idx0 + int(((float(idxn - idx0) / (ord(list[idxn]) - ord(list[idx0]))) * (ord(x) - ord(list[idx0]))))\n",
        "\n",
        "        # Compare the value at mid point with search value\n",
        "        if list[mid] == x:\n",
        "            found = True\n",
        "            return found\n",
        "\n",
        "        if list[mid] < x:\n",
        "            idx0 = mid + 1\n",
        "    return found\n",
        "\n",
        "\n",
        "list = ['y', 'u', 'i', 'w', 'o', 'a', 'q', 'u', 'j', 'p']\n",
        "sorted_list = BubbleSort(list)\n",
        "\n",
        "result = IntPolsearch(sorted_list, 'u')\n",
        "print(result)"
      ],
      "metadata": {
        "colab": {
          "base_uri": "https://localhost:8080/"
        },
        "id": "izt0FgwERhhm",
        "outputId": "609acc8b-acca-43a7-f421-cca4dce7966f"
      },
      "execution_count": null,
      "outputs": [
        {
          "output_type": "stream",
          "name": "stdout",
          "text": [
            "True\n"
          ]
        }
      ]
    }
  ]
}